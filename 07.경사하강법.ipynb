{
 "cells": [
  {
   "cell_type": "code",
   "execution_count": 2,
   "metadata": {},
   "outputs": [],
   "source": [
    "import numpy as np\n",
    "import pandas as pd\n",
    "import matplotlib.pyplot as plt"
   ]
  },
  {
   "cell_type": "markdown",
   "metadata": {},
   "source": [
    "## 시험성적 데이터"
   ]
  },
  {
   "cell_type": "code",
   "execution_count": 3,
   "metadata": {
    "scrolled": true
   },
   "outputs": [
    {
     "data": {
      "text/html": [
       "<div>\n",
       "<style scoped>\n",
       "    .dataframe tbody tr th:only-of-type {\n",
       "        vertical-align: middle;\n",
       "    }\n",
       "\n",
       "    .dataframe tbody tr th {\n",
       "        vertical-align: top;\n",
       "    }\n",
       "\n",
       "    .dataframe thead th {\n",
       "        text-align: right;\n",
       "    }\n",
       "</style>\n",
       "<table border=\"1\" class=\"dataframe\">\n",
       "  <thead>\n",
       "    <tr style=\"text-align: right;\">\n",
       "      <th></th>\n",
       "      <th>시간</th>\n",
       "      <th>점수</th>\n",
       "    </tr>\n",
       "  </thead>\n",
       "  <tbody>\n",
       "    <tr>\n",
       "      <th>0</th>\n",
       "      <td>2</td>\n",
       "      <td>20</td>\n",
       "    </tr>\n",
       "    <tr>\n",
       "      <th>1</th>\n",
       "      <td>4</td>\n",
       "      <td>40</td>\n",
       "    </tr>\n",
       "    <tr>\n",
       "      <th>2</th>\n",
       "      <td>8</td>\n",
       "      <td>80</td>\n",
       "    </tr>\n",
       "    <tr>\n",
       "      <th>3</th>\n",
       "      <td>9</td>\n",
       "      <td>90</td>\n",
       "    </tr>\n",
       "  </tbody>\n",
       "</table>\n",
       "</div>"
      ],
      "text/plain": [
       "   시간  점수\n",
       "0   2  20\n",
       "1   4  40\n",
       "2   8  80\n",
       "3   9  90"
      ]
     },
     "execution_count": 3,
     "metadata": {},
     "output_type": "execute_result"
    }
   ],
   "source": [
    "data = pd.DataFrame([[2,20],[4,40],[8,80],[9,90]],\n",
    "                   columns=['시간','점수'])\n",
    "data"
   ]
  },
  {
   "cell_type": "code",
   "execution_count": 4,
   "metadata": {},
   "outputs": [
    {
     "data": {
      "text/plain": [
       "<matplotlib.collections.PathCollection at 0x17fdd86ea90>"
      ]
     },
     "execution_count": 4,
     "metadata": {},
     "output_type": "execute_result"
    },
    {
     "data": {
      "image/png": "[encoded data removed]",
      "text/plain": [
       "<Figure size 432x288 with 1 Axes>"
      ]
     },
     "metadata": {
      "needs_background": "light"
     },
     "output_type": "display_data"
    }
   ],
   "source": [
    "plt.scatter(data['시간'],data['점수'])"
   ]
  },
  {
   "cell_type": "markdown",
   "metadata": {},
   "source": [
    "## 경사하강법\n",
    "- 가중치(w)변화에 따른 비용함수(cost)값의 변화"
   ]
  },
  {
   "cell_type": "markdown",
   "metadata": {},
   "source": [
    "### cost function"
   ]
  },
  {
   "cell_type": "code",
   "execution_count": 5,
   "metadata": {},
   "outputs": [],
   "source": [
    "#x, y, w\n",
    "def cost(data, target, weight):\n",
    "    hx = weight*data\n",
    "    return ((hx-target)**2).mean()"
   ]
  },
  {
   "cell_type": "code",
   "execution_count": 6,
   "metadata": {},
   "outputs": [
    {
     "data": {
      "text/plain": [
       "0.0"
      ]
     },
     "execution_count": 6,
     "metadata": {},
     "output_type": "execute_result"
    }
   ],
   "source": [
    "cost(data['시간'], data['점수'], 10)"
   ]
  },
  {
   "cell_type": "code",
   "execution_count": 7,
   "metadata": {},
   "outputs": [
    {
     "data": {
      "text/plain": [
       "1031.25"
      ]
     },
     "execution_count": 7,
     "metadata": {},
     "output_type": "execute_result"
    }
   ],
   "source": [
    "cost(data['시간'], data['점수'], 15)"
   ]
  },
  {
   "cell_type": "code",
   "execution_count": 8,
   "metadata": {},
   "outputs": [
    {
     "data": {
      "text/plain": [
       "1031.25"
      ]
     },
     "execution_count": 8,
     "metadata": {},
     "output_type": "execute_result"
    }
   ],
   "source": [
    "cost(data['시간'], data['점수'], 5)"
   ]
  },
  {
   "cell_type": "code",
   "execution_count": 9,
   "metadata": {},
   "outputs": [
    {
     "data": {
      "text/plain": [
       "<matplotlib.collections.PathCollection at 0x17fdd975730>"
      ]
     },
     "execution_count": 9,
     "metadata": {},
     "output_type": "execute_result"
    },
    {
     "data": {
      "image/png": "[encoded data removed]",
      "text/plain": [
       "<Figure size 432x288 with 1 Axes>"
      ]
     },
     "metadata": {
      "needs_background": "light"
     },
     "output_type": "display_data"
    }
   ],
   "source": [
    "cost10 = cost(data['시간'], data['점수'], 10)\n",
    "cost5 = cost(data['시간'], data['점수'], 5)\n",
    "cost15 = cost(data['시간'], data['점수'], 15)\n",
    "plt.scatter([10,5,15],[cost10, cost5, cost15]) "
   ]
  },
  {
   "cell_type": "code",
   "execution_count": 10,
   "metadata": {},
   "outputs": [],
   "source": [
    "weight_arr = range(-10,31)\n",
    "cost_arr = []\n",
    "for w in weight_arr:\n",
    "    c = cost(data['시간'], data['점수'],w)\n",
    "    cost_arr.append(c)"
   ]
  },
  {
   "cell_type": "code",
   "execution_count": 11,
   "metadata": {},
   "outputs": [
    {
     "data": {
      "text/plain": [
       "<matplotlib.collections.PathCollection at 0x17fdd9cf370>"
      ]
     },
     "execution_count": 11,
     "metadata": {},
     "output_type": "execute_result"
    },
    {
     "data": {
      "image/png": "[encoded data removed]",
      "text/plain": [
       "<Figure size 432x288 with 1 Axes>"
      ]
     },
     "metadata": {
      "needs_background": "light"
     },
     "output_type": "display_data"
    }
   ],
   "source": [
    "plt.scatter(weight_arr, cost_arr)"
   ]
  },
  {
   "cell_type": "markdown",
   "metadata": {},
   "source": [
    "## SGDRegressor"
   ]
  },
  {
   "cell_type": "code",
   "execution_count": 12,
   "metadata": {},
   "outputs": [],
   "source": [
    "from sklearn.linear_model import SGDRegressor"
   ]
  },
  {
   "cell_type": "code",
   "execution_count": 14,
   "metadata": {},
   "outputs": [],
   "source": [
    "model = SGDRegressor(max_iter=1000, #가중치 업데이트 반복 횟수(epoch)\n",
    "                    eta0=0.05, #학습률(Learning rate, 0~1)\n",
    "                    verbose=1,#학습과정 확인 할 수 있다\n",
    "                    random_state=0 )"
   ]
  },
  {
   "cell_type": "code",
   "execution_count": 15,
   "metadata": {
    "collapsed": true
   },
   "outputs": [
    {
     "name": "stdout",
     "output_type": "stream",
     "text": [
      "-- Epoch 1\n",
      "Norm: 5.36, NNZs: 1, Bias: 1.535279, T: 4, Avg. loss: 288.637856\n",
      "Total training time: 0.00 seconds.\n",
      "-- Epoch 2\n",
      "Norm: 7.01, NNZs: 1, Bias: 1.222401, T: 8, Avg. loss: 261.270852\n",
      "Total training time: 0.00 seconds.\n",
      "-- Epoch 3\n",
      "Norm: 8.48, NNZs: 1, Bias: 1.676305, T: 12, Avg. loss: 43.091681\n",
      "Total training time: 0.00 seconds.\n",
      "-- Epoch 4\n",
      "Norm: 9.38, NNZs: 1, Bias: 1.807779, T: 16, Avg. loss: 10.348361\n",
      "Total training time: 0.00 seconds.\n",
      "-- Epoch 5\n",
      "Norm: 9.83, NNZs: 1, Bias: 1.810884, T: 20, Avg. loss: 1.955355\n",
      "Total training time: 0.00 seconds.\n",
      "-- Epoch 6\n",
      "Norm: 9.78, NNZs: 1, Bias: 1.770729, T: 24, Avg. loss: 0.431061\n",
      "Total training time: 0.00 seconds.\n",
      "-- Epoch 7\n",
      "Norm: 9.85, NNZs: 1, Bias: 1.744352, T: 28, Avg. loss: 0.424363\n",
      "Total training time: 0.00 seconds.\n",
      "-- Epoch 8\n",
      "Norm: 9.92, NNZs: 1, Bias: 1.724007, T: 32, Avg. loss: 0.498933\n",
      "Total training time: 0.00 seconds.\n",
      "-- Epoch 9\n",
      "Norm: 9.82, NNZs: 1, Bias: 1.675835, T: 36, Avg. loss: 0.466372\n",
      "Total training time: 0.00 seconds.\n",
      "-- Epoch 10\n",
      "Norm: 9.86, NNZs: 1, Bias: 1.649608, T: 40, Avg. loss: 0.379027\n",
      "Total training time: 0.00 seconds.\n",
      "-- Epoch 11\n",
      "Norm: 9.90, NNZs: 1, Bias: 1.629106, T: 44, Avg. loss: 0.424958\n",
      "Total training time: 0.00 seconds.\n",
      "-- Epoch 12\n",
      "Norm: 9.83, NNZs: 1, Bias: 1.590501, T: 48, Avg. loss: 0.383236\n",
      "Total training time: 0.00 seconds.\n",
      "-- Epoch 13\n",
      "Norm: 9.86, NNZs: 1, Bias: 1.567054, T: 52, Avg. loss: 0.335988\n",
      "Total training time: 0.00 seconds.\n",
      "-- Epoch 14\n",
      "Norm: 9.89, NNZs: 1, Bias: 1.547440, T: 56, Avg. loss: 0.366749\n",
      "Total training time: 0.00 seconds.\n",
      "-- Epoch 15\n",
      "Norm: 9.84, NNZs: 1, Bias: 1.515080, T: 60, Avg. loss: 0.327799\n",
      "Total training time: 0.00 seconds.\n",
      "-- Epoch 16\n",
      "Norm: 9.86, NNZs: 1, Bias: 1.493665, T: 64, Avg. loss: 0.301387\n",
      "Total training time: 0.00 seconds.\n",
      "-- Epoch 17\n",
      "Norm: 9.88, NNZs: 1, Bias: 1.475075, T: 68, Avg. loss: 0.322445\n",
      "Total training time: 0.00 seconds.\n",
      "-- Epoch 18\n",
      "Norm: 9.85, NNZs: 1, Bias: 1.447116, T: 72, Avg. loss: 0.287256\n",
      "Total training time: 0.00 seconds.\n",
      "-- Epoch 19\n",
      "Norm: 9.86, NNZs: 1, Bias: 1.427322, T: 76, Avg. loss: 0.272462\n",
      "Total training time: 0.00 seconds.\n",
      "-- Epoch 20\n",
      "Norm: 9.88, NNZs: 1, Bias: 1.409753, T: 80, Avg. loss: 0.287098\n",
      "Total training time: 0.00 seconds.\n",
      "-- Epoch 21\n",
      "Norm: 9.85, NNZs: 1, Bias: 1.385094, T: 84, Avg. loss: 0.255588\n",
      "Total training time: 0.00 seconds.\n",
      "-- Epoch 22\n",
      "Norm: 9.87, NNZs: 1, Bias: 1.366659, T: 88, Avg. loss: 0.247714\n",
      "Total training time: 0.00 seconds.\n",
      "-- Epoch 23\n",
      "Norm: 9.88, NNZs: 1, Bias: 1.350060, T: 92, Avg. loss: 0.257975\n",
      "Total training time: 0.00 seconds.\n",
      "-- Epoch 24\n",
      "Norm: 9.86, NNZs: 1, Bias: 1.327984, T: 96, Avg. loss: 0.229790\n",
      "Total training time: 0.00 seconds.\n",
      "-- Epoch 25\n",
      "Norm: 9.87, NNZs: 1, Bias: 1.310726, T: 100, Avg. loss: 0.226214\n",
      "Total training time: 0.00 seconds.\n",
      "-- Epoch 26\n",
      "Norm: 9.88, NNZs: 1, Bias: 1.295030, T: 104, Avg. loss: 0.233421\n",
      "Total training time: 0.00 seconds.\n",
      "-- Epoch 27\n",
      "Norm: 9.86, NNZs: 1, Bias: 1.275044, T: 108, Avg. loss: 0.208168\n",
      "Total training time: 0.00 seconds.\n",
      "-- Epoch 28\n",
      "Norm: 9.87, NNZs: 1, Bias: 1.258824, T: 112, Avg. loss: 0.207327\n",
      "Total training time: 0.00 seconds.\n",
      "-- Epoch 29\n",
      "Norm: 9.88, NNZs: 1, Bias: 1.243962, T: 116, Avg. loss: 0.212361\n",
      "Total training time: 0.00 seconds.\n",
      "-- Epoch 30\n",
      "Norm: 9.87, NNZs: 1, Bias: 1.225710, T: 120, Avg. loss: 0.189673\n",
      "Total training time: 0.00 seconds.\n",
      "-- Epoch 31\n",
      "Norm: 9.88, NNZs: 1, Bias: 1.210416, T: 124, Avg. loss: 0.190596\n",
      "Total training time: 0.01 seconds.\n",
      "-- Epoch 32\n",
      "Norm: 9.88, NNZs: 1, Bias: 1.196325, T: 128, Avg. loss: 0.194058\n",
      "Total training time: 0.01 seconds.\n",
      "-- Epoch 33\n",
      "Norm: 9.87, NNZs: 1, Bias: 1.179537, T: 132, Avg. loss: 0.173614\n",
      "Total training time: 0.01 seconds.\n",
      "-- Epoch 34\n",
      "Norm: 9.88, NNZs: 1, Bias: 1.165080, T: 136, Avg. loss: 0.175673\n",
      "Total training time: 0.01 seconds.\n",
      "-- Epoch 35\n",
      "Norm: 9.89, NNZs: 1, Bias: 1.151701, T: 140, Avg. loss: 0.177985\n",
      "Total training time: 0.01 seconds.\n",
      "-- Epoch 36\n",
      "Norm: 9.88, NNZs: 1, Bias: 1.136171, T: 144, Avg. loss: 0.159509\n",
      "Total training time: 0.01 seconds.\n",
      "-- Epoch 37\n",
      "Norm: 9.88, NNZs: 1, Bias: 1.122474, T: 148, Avg. loss: 0.162288\n",
      "Total training time: 0.01 seconds.\n",
      "-- Epoch 38\n",
      "Norm: 9.89, NNZs: 1, Bias: 1.109753, T: 152, Avg. loss: 0.163751\n",
      "Total training time: 0.01 seconds.\n",
      "-- Epoch 39\n",
      "Norm: 9.88, NNZs: 1, Bias: 1.095318, T: 156, Avg. loss: 0.147005\n",
      "Total training time: 0.01 seconds.\n",
      "-- Epoch 40\n",
      "Norm: 9.89, NNZs: 1, Bias: 1.082317, T: 160, Avg. loss: 0.150227\n",
      "Total training time: 0.01 seconds.\n",
      "-- Epoch 41\n",
      "Norm: 9.89, NNZs: 1, Bias: 1.070206, T: 164, Avg. loss: 0.151058\n",
      "Total training time: 0.01 seconds.\n",
      "-- Epoch 42\n",
      "Norm: 9.89, NNZs: 1, Bias: 1.056734, T: 168, Avg. loss: 0.135841\n",
      "Total training time: 0.01 seconds.\n",
      "-- Epoch 43\n",
      "Norm: 9.89, NNZs: 1, Bias: 1.044373, T: 172, Avg. loss: 0.139313\n",
      "Total training time: 0.01 seconds.\n",
      "-- Epoch 44\n",
      "Norm: 9.89, NNZs: 1, Bias: 1.032827, T: 176, Avg. loss: 0.139673\n",
      "Total training time: 0.01 seconds.\n",
      "-- Epoch 45\n",
      "Norm: 9.89, NNZs: 1, Bias: 1.020210, T: 180, Avg. loss: 0.125811\n",
      "Total training time: 0.01 seconds.\n",
      "-- Epoch 46\n",
      "Norm: 9.89, NNZs: 1, Bias: 1.008439, T: 184, Avg. loss: 0.129402\n",
      "Total training time: 0.01 seconds.\n",
      "-- Epoch 47\n",
      "Norm: 9.90, NNZs: 1, Bias: 0.997421, T: 188, Avg. loss: 0.129412\n",
      "Total training time: 0.01 seconds.\n",
      "-- Epoch 48\n",
      "Norm: 9.89, NNZs: 1, Bias: 0.985568, T: 192, Avg. loss: 0.116756\n",
      "Total training time: 0.01 seconds.\n",
      "-- Epoch 49\n",
      "Norm: 9.90, NNZs: 1, Bias: 0.974345, T: 196, Avg. loss: 0.120375\n",
      "Total training time: 0.01 seconds.\n",
      "-- Epoch 50\n",
      "Norm: 9.90, NNZs: 1, Bias: 0.963818, T: 200, Avg. loss: 0.120124\n",
      "Total training time: 0.01 seconds.\n",
      "-- Epoch 51\n",
      "Norm: 9.90, NNZs: 1, Bias: 0.952653, T: 204, Avg. loss: 0.108544\n",
      "Total training time: 0.01 seconds.\n",
      "-- Epoch 52\n",
      "Norm: 9.90, NNZs: 1, Bias: 0.941940, T: 208, Avg. loss: 0.112130\n",
      "Total training time: 0.01 seconds.\n",
      "-- Epoch 53\n",
      "Norm: 9.90, NNZs: 1, Bias: 0.931873, T: 212, Avg. loss: 0.111687\n",
      "Total training time: 0.01 seconds.\n",
      "-- Epoch 54\n",
      "Norm: 9.90, NNZs: 1, Bias: 0.921331, T: 216, Avg. loss: 0.101070\n",
      "Total training time: 0.01 seconds.\n",
      "-- Epoch 55\n",
      "Norm: 9.90, NNZs: 1, Bias: 0.911093, T: 220, Avg. loss: 0.104580\n",
      "Total training time: 0.01 seconds.\n",
      "-- Epoch 56\n",
      "Norm: 9.90, NNZs: 1, Bias: 0.901456, T: 224, Avg. loss: 0.103996\n",
      "Total training time: 0.01 seconds.\n",
      "-- Epoch 57\n",
      "Norm: 9.90, NNZs: 1, Bias: 0.891483, T: 228, Avg. loss: 0.094245\n",
      "Total training time: 0.01 seconds.\n",
      "-- Epoch 58\n",
      "Norm: 9.90, NNZs: 1, Bias: 0.881689, T: 232, Avg. loss: 0.097651\n",
      "Total training time: 0.01 seconds.\n",
      "-- Epoch 59\n",
      "Norm: 9.91, NNZs: 1, Bias: 0.872455, T: 236, Avg. loss: 0.096966\n",
      "Total training time: 0.01 seconds.\n",
      "-- Epoch 60\n",
      "Norm: 9.90, NNZs: 1, Bias: 0.863001, T: 240, Avg. loss: 0.087996\n",
      "Total training time: 0.01 seconds.\n",
      "-- Epoch 61\n",
      "Norm: 9.91, NNZs: 1, Bias: 0.853623, T: 244, Avg. loss: 0.091278\n",
      "Total training time: 0.01 seconds.\n",
      "-- Epoch 62\n",
      "Norm: 9.91, NNZs: 1, Bias: 0.844770, T: 248, Avg. loss: 0.090524\n",
      "Total training time: 0.01 seconds.\n",
      "-- Epoch 63\n",
      "Norm: 9.91, NNZs: 1, Bias: 0.835793, T: 252, Avg. loss: 0.082258\n",
      "Total training time: 0.01 seconds.\n",
      "-- Epoch 64\n",
      "Norm: 9.91, NNZs: 1, Bias: 0.826806, T: 256, Avg. loss: 0.085407\n",
      "Total training time: 0.01 seconds.\n",
      "-- Epoch 65\n",
      "Norm: 9.91, NNZs: 1, Bias: 0.818310, T: 260, Avg. loss: 0.084607\n",
      "Total training time: 0.01 seconds.\n",
      "-- Epoch 66\n",
      "Norm: 9.91, NNZs: 1, Bias: 0.809773, T: 264, Avg. loss: 0.076979\n",
      "Total training time: 0.01 seconds.\n",
      "-- Epoch 67\n",
      "Norm: 9.91, NNZs: 1, Bias: 0.801153, T: 268, Avg. loss: 0.079989\n",
      "Total training time: 0.01 seconds.\n",
      "-- Epoch 68\n",
      "Norm: 9.91, NNZs: 1, Bias: 0.792995, T: 272, Avg. loss: 0.079161\n",
      "Total training time: 0.01 seconds.\n",
      "-- Epoch 69\n",
      "Norm: 9.91, NNZs: 1, Bias: 0.784865, T: 276, Avg. loss: 0.072112\n",
      "Total training time: 0.01 seconds.\n",
      "-- Epoch 70\n",
      "Norm: 9.91, NNZs: 1, Bias: 0.776592, T: 280, Avg. loss: 0.074979\n",
      "Total training time: 0.01 seconds.\n",
      "-- Epoch 71\n",
      "Norm: 9.91, NNZs: 1, Bias: 0.768751, T: 284, Avg. loss: 0.074138\n",
      "Total training time: 0.01 seconds.\n",
      "-- Epoch 72\n",
      "Norm: 9.92, NNZs: 1, Bias: 0.760999, T: 288, Avg. loss: 0.067616\n",
      "Total training time: 0.01 seconds.\n",
      "-- Epoch 73\n",
      "Norm: 9.92, NNZs: 1, Bias: 0.753053, T: 292, Avg. loss: 0.070342\n",
      "Total training time: 0.01 seconds.\n",
      "-- Epoch 74\n",
      "Norm: 9.92, NNZs: 1, Bias: 0.745513, T: 296, Avg. loss: 0.069497\n",
      "Total training time: 0.01 seconds.\n",
      "-- Epoch 75\n",
      "Norm: 9.92, NNZs: 1, Bias: 0.738113, T: 300, Avg. loss: 0.063455\n",
      "Total training time: 0.01 seconds.\n",
      "-- Epoch 76\n",
      "Norm: 9.92, NNZs: 1, Bias: 0.730476, T: 304, Avg. loss: 0.066043\n",
      "Total training time: 0.01 seconds.\n",
      "-- Epoch 77\n",
      "Norm: 9.92, NNZs: 1, Bias: 0.723221, T: 308, Avg. loss: 0.065204\n",
      "Total training time: 0.01 seconds.\n",
      "-- Epoch 78\n",
      "Norm: 9.92, NNZs: 1, Bias: 0.716149, T: 312, Avg. loss: 0.059600\n",
      "Total training time: 0.01 seconds.\n",
      "-- Epoch 79\n",
      "Norm: 9.92, NNZs: 1, Bias: 0.708804, T: 316, Avg. loss: 0.062052\n",
      "Total training time: 0.01 seconds.\n",
      "-- Epoch 80\n",
      "Norm: 9.92, NNZs: 1, Bias: 0.701820, T: 320, Avg. loss: 0.061225\n",
      "Total training time: 0.01 seconds.\n",
      "-- Epoch 81\n",
      "Norm: 9.92, NNZs: 1, Bias: 0.695054, T: 324, Avg. loss: 0.056022\n",
      "Total training time: 0.02 seconds.\n",
      "-- Epoch 82\n",
      "Norm: 9.92, NNZs: 1, Bias: 0.687986, T: 328, Avg. loss: 0.058343\n",
      "Total training time: 0.02 seconds.\n",
      "-- Epoch 83\n",
      "Norm: 9.92, NNZs: 1, Bias: 0.681259, T: 332, Avg. loss: 0.057533\n",
      "Total training time: 0.02 seconds.\n",
      "-- Epoch 84\n",
      "Norm: 9.92, NNZs: 1, Bias: 0.674780, T: 336, Avg. loss: 0.052697\n",
      "Total training time: 0.02 seconds.\n",
      "-- Epoch 85\n",
      "Norm: 9.92, NNZs: 1, Bias: 0.667975, T: 340, Avg. loss: 0.054893\n",
      "Total training time: 0.02 seconds.\n",
      "-- Epoch 86\n",
      "Norm: 9.92, NNZs: 1, Bias: 0.661492, T: 344, Avg. loss: 0.054103\n",
      "Total training time: 0.02 seconds.\n",
      "-- Epoch 87\n",
      "Norm: 9.93, NNZs: 1, Bias: 0.655283, T: 348, Avg. loss: 0.049603\n",
      "Total training time: 0.02 seconds.\n",
      "-- Epoch 88\n",
      "Norm: 9.93, NNZs: 1, Bias: 0.648727, T: 352, Avg. loss: 0.051679\n",
      "Total training time: 0.02 seconds.\n",
      "-- Epoch 89\n",
      "Norm: 9.93, NNZs: 1, Bias: 0.642476, T: 356, Avg. loss: 0.050911\n",
      "Total training time: 0.02 seconds.\n",
      "-- Epoch 90\n",
      "Norm: 9.93, NNZs: 1, Bias: 0.636520, T: 360, Avg. loss: 0.046722\n",
      "Total training time: 0.02 seconds.\n",
      "-- Epoch 91\n",
      "Norm: 9.93, NNZs: 1, Bias: 0.630202, T: 364, Avg. loss: 0.048683\n",
      "Total training time: 0.02 seconds.\n",
      "-- Epoch 92\n",
      "Norm: 9.93, NNZs: 1, Bias: 0.624172, T: 368, Avg. loss: 0.047939\n",
      "Total training time: 0.02 seconds.\n",
      "-- Epoch 93\n",
      "Norm: 9.93, NNZs: 1, Bias: 0.618455, T: 372, Avg. loss: 0.044034\n",
      "Total training time: 0.02 seconds.\n",
      "-- Epoch 94\n",
      "Norm: 9.93, NNZs: 1, Bias: 0.612363, T: 376, Avg. loss: 0.045887\n",
      "Total training time: 0.02 seconds.\n",
      "-- Epoch 95\n",
      "Norm: 9.93, NNZs: 1, Bias: 0.606543, T: 380, Avg. loss: 0.045169\n",
      "Total training time: 0.02 seconds.\n",
      "-- Epoch 96\n",
      "Norm: 9.93, NNZs: 1, Bias: 0.601051, T: 384, Avg. loss: 0.041526\n",
      "Total training time: 0.02 seconds.\n",
      "-- Epoch 97\n",
      "Norm: 9.93, NNZs: 1, Bias: 0.595174, T: 388, Avg. loss: 0.043275\n",
      "Total training time: 0.02 seconds.\n",
      "-- Epoch 98\n",
      "Norm: 9.93, NNZs: 1, Bias: 0.589556, T: 392, Avg. loss: 0.042583\n",
      "Total training time: 0.02 seconds.\n",
      "-- Epoch 99\n",
      "Norm: 9.93, NNZs: 1, Bias: 0.584276, T: 396, Avg. loss: 0.039183\n",
      "Total training time: 0.02 seconds.\n",
      "-- Epoch 100\n",
      "Norm: 9.93, NNZs: 1, Bias: 0.578605, T: 400, Avg. loss: 0.040834\n",
      "Total training time: 0.02 seconds.\n",
      "-- Epoch 101\n",
      "Norm: 9.93, NNZs: 1, Bias: 0.573178, T: 404, Avg. loss: 0.040168\n",
      "Total training time: 0.02 seconds.\n",
      "-- Epoch 102\n",
      "Norm: 9.94, NNZs: 1, Bias: 0.568100, T: 408, Avg. loss: 0.036991\n",
      "Total training time: 0.02 seconds.\n",
      "-- Epoch 103\n",
      "Norm: 9.94, NNZs: 1, Bias: 0.562624, T: 412, Avg. loss: 0.038549\n",
      "Total training time: 0.02 seconds.\n",
      "-- Epoch 104\n",
      "Norm: 9.94, NNZs: 1, Bias: 0.557380, T: 416, Avg. loss: 0.037911\n",
      "Total training time: 0.02 seconds.\n",
      "-- Epoch 105\n",
      "Norm: 9.94, NNZs: 1, Bias: 0.552493, T: 420, Avg. loss: 0.034940\n",
      "Total training time: 0.02 seconds.\n",
      "-- Epoch 106\n",
      "Norm: 9.94, NNZs: 1, Bias: 0.547204, T: 424, Avg. loss: 0.036411\n",
      "Total training time: 0.02 seconds.\n",
      "-- Epoch 107\n",
      "Norm: 9.94, NNZs: 1, Bias: 0.542135, T: 428, Avg. loss: 0.035798\n",
      "Total training time: 0.02 seconds.\n",
      "-- Epoch 108\n",
      "Norm: 9.94, NNZs: 1, Bias: 0.537429, T: 432, Avg. loss: 0.033019\n",
      "Total training time: 0.02 seconds.\n",
      "-- Epoch 109\n",
      "Norm: 9.94, NNZs: 1, Bias: 0.532318, T: 436, Avg. loss: 0.034407\n",
      "Total training time: 0.02 seconds.\n",
      "-- Epoch 110\n",
      "Norm: 9.94, NNZs: 1, Bias: 0.527417, T: 440, Avg. loss: 0.033820\n",
      "Total training time: 0.02 seconds.\n",
      "-- Epoch 111\n",
      "Norm: 9.94, NNZs: 1, Bias: 0.522882, T: 444, Avg. loss: 0.031217\n",
      "Total training time: 0.02 seconds.\n",
      "-- Epoch 112\n",
      "Norm: 9.94, NNZs: 1, Bias: 0.517943, T: 448, Avg. loss: 0.032528\n",
      "Total training time: 0.02 seconds.\n",
      "-- Epoch 113\n",
      "Norm: 9.94, NNZs: 1, Bias: 0.513202, T: 452, Avg. loss: 0.031966\n",
      "Total training time: 0.02 seconds.\n",
      "-- Epoch 114\n",
      "Norm: 9.94, NNZs: 1, Bias: 0.508830, T: 456, Avg. loss: 0.029528\n",
      "Total training time: 0.02 seconds.\n",
      "-- Epoch 115\n",
      "Norm: 9.94, NNZs: 1, Bias: 0.504054, T: 460, Avg. loss: 0.030765\n",
      "Total training time: 0.02 seconds.\n",
      "-- Epoch 116\n",
      "Norm: 9.94, NNZs: 1, Bias: 0.499467, T: 464, Avg. loss: 0.030228\n",
      "Total training time: 0.02 seconds.\n",
      "-- Epoch 117\n",
      "Norm: 9.94, NNZs: 1, Bias: 0.495251, T: 468, Avg. loss: 0.027942\n",
      "Total training time: 0.02 seconds.\n",
      "-- Epoch 118\n",
      "Norm: 9.94, NNZs: 1, Bias: 0.490631, T: 472, Avg. loss: 0.029110\n",
      "Total training time: 0.02 seconds.\n",
      "-- Epoch 119\n",
      "Norm: 9.94, NNZs: 1, Bias: 0.486191, T: 476, Avg. loss: 0.028596\n",
      "Total training time: 0.02 seconds.\n",
      "-- Epoch 120\n",
      "Norm: 9.95, NNZs: 1, Bias: 0.482123, T: 480, Avg. loss: 0.026452\n",
      "Total training time: 0.02 seconds.\n",
      "-- Epoch 121\n",
      "Norm: 9.94, NNZs: 1, Bias: 0.477653, T: 484, Avg. loss: 0.027555\n",
      "Total training time: 0.02 seconds.\n",
      "-- Epoch 122\n",
      "Norm: 9.94, NNZs: 1, Bias: 0.473354, T: 488, Avg. loss: 0.027064\n",
      "Total training time: 0.02 seconds.\n",
      "-- Epoch 123\n",
      "Norm: 9.95, NNZs: 1, Bias: 0.469427, T: 492, Avg. loss: 0.025052\n",
      "Total training time: 0.02 seconds.\n",
      "-- Epoch 124\n",
      "Norm: 9.95, NNZs: 1, Bias: 0.465101, T: 496, Avg. loss: 0.026093\n",
      "Total training time: 0.02 seconds.\n",
      "-- Epoch 125\n",
      "Norm: 9.95, NNZs: 1, Bias: 0.460937, T: 500, Avg. loss: 0.025625\n",
      "Total training time: 0.02 seconds.\n",
      "-- Epoch 126\n",
      "Norm: 9.95, NNZs: 1, Bias: 0.457145, T: 504, Avg. loss: 0.023735\n",
      "Total training time: 0.02 seconds.\n",
      "-- Epoch 127\n",
      "Norm: 9.95, NNZs: 1, Bias: 0.452957, T: 508, Avg. loss: 0.024718\n",
      "Total training time: 0.02 seconds.\n",
      "-- Epoch 128\n",
      "Norm: 9.95, NNZs: 1, Bias: 0.448923, T: 512, Avg. loss: 0.024271\n",
      "Total training time: 0.02 seconds.\n",
      "-- Epoch 129\n",
      "Norm: 9.95, NNZs: 1, Bias: 0.445259, T: 516, Avg. loss: 0.022496\n",
      "Total training time: 0.02 seconds.\n",
      "-- Epoch 130\n",
      "Norm: 9.95, NNZs: 1, Bias: 0.441203, T: 520, Avg. loss: 0.023424\n",
      "Total training time: 0.02 seconds.\n",
      "-- Epoch 131\n",
      "Norm: 9.95, NNZs: 1, Bias: 0.437294, T: 524, Avg. loss: 0.022998\n",
      "Total training time: 0.02 seconds.\n",
      "-- Epoch 132\n",
      "Norm: 9.95, NNZs: 1, Bias: 0.433753, T: 528, Avg. loss: 0.021329\n",
      "Total training time: 0.02 seconds.\n",
      "-- Epoch 133\n",
      "Norm: 9.95, NNZs: 1, Bias: 0.429824, T: 532, Avg. loss: 0.022206\n",
      "Total training time: 0.02 seconds.\n",
      "-- Epoch 134\n",
      "Norm: 9.95, NNZs: 1, Bias: 0.426035, T: 536, Avg. loss: 0.021800\n",
      "Total training time: 0.02 seconds.\n",
      "-- Epoch 135\n",
      "Norm: 9.95, NNZs: 1, Bias: 0.422611, T: 540, Avg. loss: 0.020230\n",
      "Total training time: 0.02 seconds.\n",
      "-- Epoch 136\n",
      "Norm: 9.95, NNZs: 1, Bias: 0.418805, T: 544, Avg. loss: 0.021059\n",
      "Total training time: 0.02 seconds.\n",
      "-- Epoch 137\n",
      "Norm: 9.95, NNZs: 1, Bias: 0.415131, T: 548, Avg. loss: 0.020671\n",
      "Total training time: 0.02 seconds.\n",
      "-- Epoch 138\n",
      "Norm: 9.95, NNZs: 1, Bias: 0.411819, T: 552, Avg. loss: 0.019194\n",
      "Total training time: 0.02 seconds.\n",
      "-- Epoch 139\n",
      "Norm: 9.95, NNZs: 1, Bias: 0.408130, T: 556, Avg. loss: 0.019977\n",
      "Total training time: 0.02 seconds.\n",
      "-- Epoch 140\n",
      "Norm: 9.95, NNZs: 1, Bias: 0.404567, T: 560, Avg. loss: 0.019608\n",
      "Total training time: 0.02 seconds.\n",
      "-- Epoch 141\n",
      "Norm: 9.95, NNZs: 1, Bias: 0.401363, T: 564, Avg. loss: 0.018217\n",
      "Total training time: 0.02 seconds.\n",
      "-- Epoch 142\n",
      "Norm: 9.95, NNZs: 1, Bias: 0.397787, T: 568, Avg. loss: 0.018957\n",
      "Total training time: 0.02 seconds.\n",
      "-- Epoch 143\n",
      "Norm: 9.95, NNZs: 1, Bias: 0.394331, T: 572, Avg. loss: 0.018605\n",
      "Total training time: 0.02 seconds.\n",
      "Convergence after 143 epochs took 0.02 seconds\n"
     ]
    },
    {
     "data": {
      "text/plain": [
       "SGDRegressor(eta0=0.05, random_state=0, verbose=1)"
      ]
     },
     "execution_count": 15,
     "metadata": {},
     "output_type": "execute_result"
    }
   ],
   "source": [
    "model.fit(data[['시간']], data['점수'])"
   ]
  },
  {
   "cell_type": "code",
   "execution_count": 16,
   "metadata": {},
   "outputs": [
    {
     "data": {
      "text/plain": [
       "array([20.30076371, 40.20719643, 80.02006187, 89.97327823])"
      ]
     },
     "execution_count": 16,
     "metadata": {},
     "output_type": "execute_result"
    }
   ],
   "source": [
    "model.predict(data[['시간']])"
   ]
  },
  {
   "cell_type": "code",
   "execution_count": 17,
   "metadata": {},
   "outputs": [
    {
     "data": {
      "text/plain": [
       "array([9.95321636])"
      ]
     },
     "execution_count": 17,
     "metadata": {},
     "output_type": "execute_result"
    }
   ],
   "source": [
    "model.coef_"
   ]
  },
  {
   "cell_type": "code",
   "execution_count": 18,
   "metadata": {},
   "outputs": [
    {
     "data": {
      "text/plain": [
       "array([0.39433099])"
      ]
     },
     "execution_count": 18,
     "metadata": {},
     "output_type": "execute_result"
    }
   ],
   "source": [
    "model.intercept_"
   ]
  },
  {
   "cell_type": "code",
   "execution_count": 19,
   "metadata": {},
   "outputs": [
    {
     "data": {
      "text/plain": [
       "0.9999589295568384"
      ]
     },
     "execution_count": 19,
     "metadata": {},
     "output_type": "execute_result"
    }
   ],
   "source": [
    "model.score(data[['시간']], data['점수'])"
   ]
  },
  {
   "cell_type": "code",
   "execution_count": null,
   "metadata": {},
   "outputs": [],
   "source": []
  },
  {
   "cell_type": "code",
   "execution_count": null,
   "metadata": {},
   "outputs": [],
   "source": []
  },
  {
   "cell_type": "code",
   "execution_count": null,
   "metadata": {},
   "outputs": [],
   "source": []
  },
  {
   "cell_type": "code",
   "execution_count": null,
   "metadata": {},
   "outputs": [],
   "source": []
  },
  {
   "cell_type": "code",
   "execution_count": null,
   "metadata": {},
   "outputs": [],
   "source": []
  },
  {
   "cell_type": "code",
   "execution_count": null,
   "metadata": {},
   "outputs": [],
   "source": []
  }
 ],
 "metadata": {
  "kernelspec": {
   "display_name": "Python 3",
   "language": "python",
   "name": "python3"
  },
  "language_info": {
   "codemirror_mode": {
    "name": "ipython",
    "version": 3
   },
   "file_extension": ".py",
   "mimetype": "text/x-python",
   "name": "python",
   "nbconvert_exporter": "python",
   "pygments_lexer": "ipython3",
   "version": "3.8.3"
  }
 },
 "nbformat": 4,
 "nbformat_minor": 4
}
