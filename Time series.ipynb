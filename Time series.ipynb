{
 "cells": [
  {
   "cell_type": "markdown",
   "metadata": {},
   "source": [
    "# 시계열(Time series) 데이터란?\n",
    "- 시간에는 순차적으로 관측한 값들의 집합\n",
    "- 독립변수를 이용하여 종속변수를 예측하는 일반적인 기계학습 방법론에 대하여 시간을 독립변수로 사용\n",
    "- 독립변수로 시간을 사용하는 특성때문에 분석에 있어서 일반적인 방법론들과는 다른 몇가지 고려가 필요"
   ]
  },
  {
   "cell_type": "markdown",
   "metadata": {},
   "source": [
    "# 시계열 자료 분석 방법\n",
    "- 회귀분석 방법, BOX-JENKINS 방법 : 수학적 이론 모형에 의존하고 시간에 따라 변동이 많은 시계열 자료에 적용\n",
    "- 지수 평활법, 시계열 분해 방법 : 다소 직관적인 방법이며 시간에 따른 병동이 느린 데이터를 분석하는데 사용\n",
    "- 다중 시계열 분석 : 회귀모형, 전이함수 모형, 개입분석, 상태공간분석, 다변량 ARIMA모형"
   ]
  },
  {
   "cell_type": "markdown",
   "metadata": {},
   "source": [
    "# 시계열 데이터 요소\n",
    "- 추세(Trend) : 장기적으로 나타나는 변동 패턴\n",
    "- 계절성(Seasonal) : 주, 월, 분기, 반기 단위 등 이미 알려진 시간의 주기로 나타나는 패턴\n",
    "- 주기(Cyclic) : 최소 2년 단위로 나타나는 고정된 기간이 아닌 장기적인 변동\n",
    "- 랜덤요소"
   ]
  },
  {
   "cell_type": "markdown",
   "metadata": {},
   "source": [
    "# 시계열 데이터 Model\n",
    "- ARMA 일반화 한것 > Stationary Series 에만 적용\n",
    "- ARIMA > Non stationary series 적용가능"
   ]
  },
  {
   "cell_type": "markdown",
   "metadata": {},
   "source": [
    "# ARIMA 모델의 모수 의미\n",
    "- AR : 자기회귀, 이전 관측값의 오차항이 이후 관측값에 영향을 주는 모형\n",
    "- I : 누적을 의미하는 것으로, 차분을 이용하는 시계열 모형들에 붙이는 표현\n",
    "- MA : 이동평균, 관측값이 이전의 연속적인 오차항의 영향을 받는다는 모형\n",
    "- 현실에 존재하는 시계열 자료는 불안정한 경우가 많다.\n",
    "- ARMA모형으로는 이러한 불안정성을 설명할 수 없다.\n",
    "- 이러한 비 정상성을 제거하는 과정을 포함한 것이 ARIMA 모형\n",
    "- 과거의 데이터가 지니고 있던 추세까지 반영"
   ]
  },
  {
   "cell_type": "code",
   "execution_count": 1,
   "metadata": {},
   "outputs": [],
   "source": [
    "import pandas as pd\n",
    "from statsmodels.tsa.arima_model import ARIMA"
   ]
  },
  {
   "cell_type": "code",
   "execution_count": 2,
   "metadata": {},
   "outputs": [],
   "source": [
    "df = pd.DataFrame([\n",
    "        ['2001-11-01', 0.998543],\n",
    "        ['2001-11-02', 1.914526],\n",
    "        ['2001-11-03', 3.057407],\n",
    "        ['2001-11-04', 4.044301],\n",
    "        ['2001-11-05', 4.952441],\n",
    "        ['2001-11-06', 6.002932],\n",
    "        ['2001-11-07', 6.930134],\n",
    "        ['2001-11-08', 8.011137],\n",
    "        ['2001-11-09', 9.040393],\n",
    "        ['2001-11-10', 10.097007],\n",
    "        ['2001-11-11', 11.063742],\n",
    "        ['2001-11-12', 12.051951],\n",
    "        ['2001-11-13', 13.062637],\n",
    "        ['2001-11-14', 14.086016],\n",
    "        ['2001-11-15', 15.096826],\n",
    "        ['2001-11-16', 15.944886],\n",
    "        ['2001-11-17', 17.027107],\n",
    "        ['2001-11-18', 17.930240],\n",
    "        ['2001-11-19', 18.984202],\n",
    "        ['2001-11-20', 19.971603]\n",
    "    ], columns=['date', 'count'])"
   ]
  },
  {
   "cell_type": "code",
   "execution_count": 3,
   "metadata": {},
   "outputs": [
    {
     "name": "stdout",
     "output_type": "stream",
     "text": [
      "<class 'pandas.core.frame.DataFrame'>\n",
      "DatetimeIndex: 20 entries, 2001-11-01 to 2001-11-20\n",
      "Data columns (total 1 columns):\n",
      " #   Column  Non-Null Count  Dtype  \n",
      "---  ------  --------------  -----  \n",
      " 0   count   20 non-null     float64\n",
      "dtypes: float64(1)\n",
      "memory usage: 320.0 bytes\n",
      "None\n"
     ]
    }
   ],
   "source": [
    "#print(df)\n",
    "df['date'] = pd.to_datetime(df.date, format='%Y-%m-%d')\n",
    "df = df.set_index('date')\n",
    "#print(df)\n",
    "print(df.info())"
   ]
  },
  {
   "cell_type": "code",
   "execution_count": 4,
   "metadata": {},
   "outputs": [
    {
     "name": "stderr",
     "output_type": "stream",
     "text": [
      "C:\\Users\\wonnaekang\\anaconda3\\lib\\site-packages\\statsmodels\\tsa\\arima_model.py:472: FutureWarning: \n",
      "statsmodels.tsa.arima_model.ARMA and statsmodels.tsa.arima_model.ARIMA have\n",
      "been deprecated in favor of statsmodels.tsa.arima.model.ARIMA (note the .\n",
      "between arima and model) and\n",
      "statsmodels.tsa.SARIMAX. These will be removed after the 0.12 release.\n",
      "\n",
      "statsmodels.tsa.arima.model.ARIMA makes use of the statespace framework and\n",
      "is both well tested and maintained.\n",
      "\n",
      "To silence this warning and continue using ARMA and ARIMA until they are\n",
      "removed, use:\n",
      "\n",
      "import warnings\n",
      "warnings.filterwarnings('ignore', 'statsmodels.tsa.arima_model.ARMA',\n",
      "                        FutureWarning)\n",
      "warnings.filterwarnings('ignore', 'statsmodels.tsa.arima_model.ARIMA',\n",
      "                        FutureWarning)\n",
      "\n",
      "  warnings.warn(ARIMA_DEPRECATION_WARN, FutureWarning)\n"
     ]
    },
    {
     "name": "stdout",
     "output_type": "stream",
     "text": [
      "                             ARIMA Model Results                              \n",
      "==============================================================================\n",
      "Dep. Variable:                D.count   No. Observations:                   19\n",
      "Model:                 ARIMA(2, 1, 2)   Log Likelihood                  25.395\n",
      "Method:                       css-mle   S.D. of innovations              0.059\n",
      "Date:                Mon, 28 Dec 2020   AIC                            -38.790\n",
      "Time:                        15:09:40   BIC                            -33.123\n",
      "Sample:                    11-02-2001   HQIC                           -37.831\n",
      "                         - 11-20-2001                                         \n",
      "=================================================================================\n",
      "                    coef    std err          z      P>|z|      [0.025      0.975]\n",
      "---------------------------------------------------------------------------------\n",
      "const             1.0001      0.014     73.731      0.000       0.973       1.027\n",
      "ar.L1.D.count    -0.3971      0.295     -1.346      0.178      -0.975       0.181\n",
      "ar.L2.D.count    -0.6571      0.230     -2.851      0.004      -1.109      -0.205\n",
      "ma.L1.D.count     0.0892      0.208      0.429      0.668      -0.318       0.496\n",
      "ma.L2.D.count     1.0000      0.640      1.563      0.118      -0.254       2.254\n",
      "                                    Roots                                    \n",
      "=============================================================================\n",
      "                  Real          Imaginary           Modulus         Frequency\n",
      "-----------------------------------------------------------------------------\n",
      "AR.1           -0.3022           -1.1961j            1.2336           -0.2894\n",
      "AR.2           -0.3022           +1.1961j            1.2336            0.2894\n",
      "MA.1           -0.0446           -0.9990j            1.0000           -0.2571\n",
      "MA.2           -0.0446           +0.9990j            1.0000            0.2571\n",
      "-----------------------------------------------------------------------------\n"
     ]
    },
    {
     "name": "stderr",
     "output_type": "stream",
     "text": [
      "C:\\Users\\wonnaekang\\anaconda3\\lib\\site-packages\\statsmodels\\tsa\\arima_model.py:472: FutureWarning: \n",
      "statsmodels.tsa.arima_model.ARMA and statsmodels.tsa.arima_model.ARIMA have\n",
      "been deprecated in favor of statsmodels.tsa.arima.model.ARIMA (note the .\n",
      "between arima and model) and\n",
      "statsmodels.tsa.SARIMAX. These will be removed after the 0.12 release.\n",
      "\n",
      "statsmodels.tsa.arima.model.ARIMA makes use of the statespace framework and\n",
      "is both well tested and maintained.\n",
      "\n",
      "To silence this warning and continue using ARMA and ARIMA until they are\n",
      "removed, use:\n",
      "\n",
      "import warnings\n",
      "warnings.filterwarnings('ignore', 'statsmodels.tsa.arima_model.ARMA',\n",
      "                        FutureWarning)\n",
      "warnings.filterwarnings('ignore', 'statsmodels.tsa.arima_model.ARIMA',\n",
      "                        FutureWarning)\n",
      "\n",
      "  warnings.warn(ARIMA_DEPRECATION_WARN, FutureWarning)\n"
     ]
    }
   ],
   "source": [
    "order = (2, 1, 2)\n",
    "model = ARIMA(df, order, freq='D')\n",
    "fit = model.fit()\n",
    "\n",
    "print(fit.summary())"
   ]
  },
  {
   "cell_type": "code",
   "execution_count": 5,
   "metadata": {},
   "outputs": [
    {
     "name": "stdout",
     "output_type": "stream",
     "text": [
      "2001-11-02     1.998597\n",
      "2001-11-03     2.942173\n",
      "2001-11-04     4.009076\n",
      "2001-11-05     5.044890\n",
      "2001-11-06     6.016321\n",
      "2001-11-07     6.968352\n",
      "2001-11-08     7.911947\n",
      "2001-11-09     9.002730\n",
      "2001-11-10    10.061819\n",
      "2001-11-11    11.090434\n",
      "2001-11-12    12.067787\n",
      "2001-11-13    13.054011\n",
      "2001-11-14    14.053110\n",
      "2001-11-15    15.080151\n",
      "2001-11-16    16.108063\n",
      "2001-11-17    16.999795\n",
      "2001-11-18    17.949547\n",
      "2001-11-19    18.937973\n",
      "2001-11-20    20.012966\n",
      "2001-11-21    20.983802\n",
      "2001-11-22    21.945984\n",
      "2001-11-23    22.953098\n",
      "2001-11-24    23.975233\n",
      "2001-11-25    24.961879\n",
      "2001-11-26    25.952749\n",
      "2001-11-27    26.965261\n",
      "2001-11-28    27.966403\n",
      "2001-11-29    28.957839\n",
      "2001-11-30    29.960601\n",
      "2001-12-01    30.965242\n",
      "Freq: D, dtype: float64\n"
     ]
    }
   ],
   "source": [
    "preds = fit.predict(1, 30, typ='levels')\n",
    "print(preds)"
   ]
  },
  {
   "cell_type": "code",
   "execution_count": 6,
   "metadata": {},
   "outputs": [
    {
     "name": "stdout",
     "output_type": "stream",
     "text": [
      "2001-11-02     1.998597\n",
      "2001-11-03     2.942173\n",
      "2001-11-04     4.009076\n",
      "2001-11-05     5.044890\n",
      "2001-11-06     6.016321\n",
      "2001-11-07     6.968352\n",
      "2001-11-08     7.911947\n",
      "2001-11-09     9.002730\n",
      "2001-11-10    10.061819\n",
      "2001-11-11    11.090434\n",
      "2001-11-12    12.067787\n",
      "2001-11-13    13.054011\n",
      "2001-11-14    14.053110\n",
      "2001-11-15    15.080151\n",
      "2001-11-16    16.108063\n",
      "2001-11-17    16.999795\n",
      "2001-11-18    17.949547\n",
      "2001-11-19    18.937973\n",
      "2001-11-20    20.012966\n",
      "2001-11-21    20.983802\n",
      "2001-11-22    21.945984\n",
      "2001-11-23    22.953098\n",
      "2001-11-24    23.975233\n",
      "2001-11-25    24.961879\n",
      "2001-11-26    25.952749\n",
      "2001-11-27    26.965261\n",
      "2001-11-28    27.966403\n",
      "2001-11-29    28.957839\n",
      "2001-11-30    29.960601\n",
      "2001-12-01    30.965242\n",
      "2001-12-02    31.961696\n",
      "2001-12-03    32.960166\n",
      "2001-12-04    33.963215\n",
      "2001-12-05    34.963121\n",
      "2001-12-06    35.961266\n",
      "2001-12-07    36.962176\n",
      "2001-12-08    37.963144\n",
      "2001-12-09    38.962273\n",
      "2001-12-10    39.962094\n",
      "2001-12-11    40.962849\n",
      "2001-12-12    41.962778\n",
      "2001-12-13    42.962421\n",
      "2001-12-14    43.962721\n",
      "2001-12-15    44.962947\n",
      "Freq: D, dtype: float64\n"
     ]
    }
   ],
   "source": [
    "preds = fit.predict(\"2001-11-02\", \"2001-12-15\", typ='levels')\n",
    "print(preds)"
   ]
  },
  {
   "cell_type": "code",
   "execution_count": null,
   "metadata": {},
   "outputs": [],
   "source": []
  }
 ],
 "metadata": {
  "kernelspec": {
   "display_name": "Python 3",
   "language": "python",
   "name": "python3"
  },
  "language_info": {
   "codemirror_mode": {
    "name": "ipython",
    "version": 3
   },
   "file_extension": ".py",
   "mimetype": "text/x-python",
   "name": "python",
   "nbconvert_exporter": "python",
   "pygments_lexer": "ipython3",
   "version": "3.8.5"
  }
 },
 "nbformat": 4,
 "nbformat_minor": 4
}
